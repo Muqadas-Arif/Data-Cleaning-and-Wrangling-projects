{
 "cells": [
  {
   "cell_type": "code",
   "execution_count": 1,
   "id": "2d9a03d9-717d-442a-82ea-79a951ac8bab",
   "metadata": {},
   "outputs": [],
   "source": [
    "import pandas as pd\n",
    "import numpy as np\n",
    "import matplotlib.pyplot as plt\n",
    "import seaborn as sns"
   ]
  },
  {
   "cell_type": "code",
   "execution_count": 2,
   "id": "b274248b-6c79-4591-a230-df33a98267cb",
   "metadata": {},
   "outputs": [],
   "source": [
    "gold_data=pd.read_csv(\"Gold Futures Historical Data (23.01.24-22.11.24).csv\")\n"
   ]
  },
  {
   "cell_type": "code",
   "execution_count": 3,
   "id": "a91994e8-9630-4916-9618-9ea936431119",
   "metadata": {},
   "outputs": [
    {
     "data": {
      "text/html": [
       "<div>\n",
       "<style scoped>\n",
       "    .dataframe tbody tr th:only-of-type {\n",
       "        vertical-align: middle;\n",
       "    }\n",
       "\n",
       "    .dataframe tbody tr th {\n",
       "        vertical-align: top;\n",
       "    }\n",
       "\n",
       "    .dataframe thead th {\n",
       "        text-align: right;\n",
       "    }\n",
       "</style>\n",
       "<table border=\"1\" class=\"dataframe\">\n",
       "  <thead>\n",
       "    <tr style=\"text-align: right;\">\n",
       "      <th></th>\n",
       "      <th>Date</th>\n",
       "      <th>Price</th>\n",
       "      <th>Open</th>\n",
       "      <th>High</th>\n",
       "      <th>Low</th>\n",
       "      <th>Vol.</th>\n",
       "      <th>Change %</th>\n",
       "    </tr>\n",
       "  </thead>\n",
       "  <tbody>\n",
       "    <tr>\n",
       "      <th>0</th>\n",
       "      <td>11/22/2024</td>\n",
       "      <td>2,699.70</td>\n",
       "      <td>2,671.20</td>\n",
       "      <td>2,701.60</td>\n",
       "      <td>2,670.85</td>\n",
       "      <td>NaN</td>\n",
       "      <td>0.93%</td>\n",
       "    </tr>\n",
       "    <tr>\n",
       "      <th>1</th>\n",
       "      <td>11/21/2024</td>\n",
       "      <td>2,674.90</td>\n",
       "      <td>2,653.50</td>\n",
       "      <td>2,676.50</td>\n",
       "      <td>2,651.60</td>\n",
       "      <td>186.30K</td>\n",
       "      <td>0.87%</td>\n",
       "    </tr>\n",
       "    <tr>\n",
       "      <th>2</th>\n",
       "      <td>11/20/2024</td>\n",
       "      <td>2,651.70</td>\n",
       "      <td>2,635.80</td>\n",
       "      <td>2,659.00</td>\n",
       "      <td>2,621.90</td>\n",
       "      <td>182.01K</td>\n",
       "      <td>0.79%</td>\n",
       "    </tr>\n",
       "    <tr>\n",
       "      <th>3</th>\n",
       "      <td>11/19/2024</td>\n",
       "      <td>2,631.00</td>\n",
       "      <td>2,616.30</td>\n",
       "      <td>2,643.40</td>\n",
       "      <td>2,614.20</td>\n",
       "      <td>202.24K</td>\n",
       "      <td>0.63%</td>\n",
       "    </tr>\n",
       "    <tr>\n",
       "      <th>4</th>\n",
       "      <td>11/18/2024</td>\n",
       "      <td>2,614.60</td>\n",
       "      <td>2,571.50</td>\n",
       "      <td>2,619.50</td>\n",
       "      <td>2,568.50</td>\n",
       "      <td>195.29K</td>\n",
       "      <td>1.73%</td>\n",
       "    </tr>\n",
       "    <tr>\n",
       "      <th>...</th>\n",
       "      <td>...</td>\n",
       "      <td>...</td>\n",
       "      <td>...</td>\n",
       "      <td>...</td>\n",
       "      <td>...</td>\n",
       "      <td>...</td>\n",
       "      <td>...</td>\n",
       "    </tr>\n",
       "    <tr>\n",
       "      <th>212</th>\n",
       "      <td>01/29/2024</td>\n",
       "      <td>2,025.40</td>\n",
       "      <td>2,024.40</td>\n",
       "      <td>2,037.20</td>\n",
       "      <td>2,018.80</td>\n",
       "      <td>150.71K</td>\n",
       "      <td>0.40%</td>\n",
       "    </tr>\n",
       "    <tr>\n",
       "      <th>213</th>\n",
       "      <td>01/26/2024</td>\n",
       "      <td>2,017.30</td>\n",
       "      <td>2,021.00</td>\n",
       "      <td>2,028.10</td>\n",
       "      <td>2,015.60</td>\n",
       "      <td>119.59K</td>\n",
       "      <td>-0.02%</td>\n",
       "    </tr>\n",
       "    <tr>\n",
       "      <th>214</th>\n",
       "      <td>01/25/2024</td>\n",
       "      <td>2,017.80</td>\n",
       "      <td>2,014.80</td>\n",
       "      <td>2,025.60</td>\n",
       "      <td>2,004.00</td>\n",
       "      <td>196.67K</td>\n",
       "      <td>0.09%</td>\n",
       "    </tr>\n",
       "    <tr>\n",
       "      <th>215</th>\n",
       "      <td>01/24/2024</td>\n",
       "      <td>2,016.00</td>\n",
       "      <td>2,030.70</td>\n",
       "      <td>2,037.90</td>\n",
       "      <td>2,011.70</td>\n",
       "      <td>234.46K</td>\n",
       "      <td>-0.48%</td>\n",
       "    </tr>\n",
       "    <tr>\n",
       "      <th>216</th>\n",
       "      <td>01/23/2024</td>\n",
       "      <td>2,025.80</td>\n",
       "      <td>2,023.20</td>\n",
       "      <td>2,039.30</td>\n",
       "      <td>2,020.80</td>\n",
       "      <td>156.70K</td>\n",
       "      <td>0.18%</td>\n",
       "    </tr>\n",
       "  </tbody>\n",
       "</table>\n",
       "<p>217 rows × 7 columns</p>\n",
       "</div>"
      ],
      "text/plain": [
       "           Date     Price      Open      High       Low     Vol. Change %\n",
       "0    11/22/2024  2,699.70  2,671.20  2,701.60  2,670.85      NaN    0.93%\n",
       "1    11/21/2024  2,674.90  2,653.50  2,676.50  2,651.60  186.30K    0.87%\n",
       "2    11/20/2024  2,651.70  2,635.80  2,659.00  2,621.90  182.01K    0.79%\n",
       "3    11/19/2024  2,631.00  2,616.30  2,643.40  2,614.20  202.24K    0.63%\n",
       "4    11/18/2024  2,614.60  2,571.50  2,619.50  2,568.50  195.29K    1.73%\n",
       "..          ...       ...       ...       ...       ...      ...      ...\n",
       "212  01/29/2024  2,025.40  2,024.40  2,037.20  2,018.80  150.71K    0.40%\n",
       "213  01/26/2024  2,017.30  2,021.00  2,028.10  2,015.60  119.59K   -0.02%\n",
       "214  01/25/2024  2,017.80  2,014.80  2,025.60  2,004.00  196.67K    0.09%\n",
       "215  01/24/2024  2,016.00  2,030.70  2,037.90  2,011.70  234.46K   -0.48%\n",
       "216  01/23/2024  2,025.80  2,023.20  2,039.30  2,020.80  156.70K    0.18%\n",
       "\n",
       "[217 rows x 7 columns]"
      ]
     },
     "execution_count": 3,
     "metadata": {},
     "output_type": "execute_result"
    }
   ],
   "source": [
    "gold_data"
   ]
  },
  {
   "cell_type": "code",
   "execution_count": 4,
   "id": "8e656efa-c4d6-4d6e-becd-cdfb50082629",
   "metadata": {},
   "outputs": [],
   "source": [
    "for col in [\"Open\", \"Price\", \"High\", \"Low\"]:\n",
    "    gold_data[col] = gold_data[col].str.replace(\",\", \"\", regex=False)\n",
    "    gold_data[col] = pd.to_numeric(gold_data[col], errors=\"coerce\")\n"
   ]
  },
  {
   "cell_type": "code",
   "execution_count": 5,
   "id": "bed4aa8a-28e2-4bc0-b391-b100c54aac41",
   "metadata": {},
   "outputs": [
    {
     "data": {
      "text/html": [
       "<div>\n",
       "<style scoped>\n",
       "    .dataframe tbody tr th:only-of-type {\n",
       "        vertical-align: middle;\n",
       "    }\n",
       "\n",
       "    .dataframe tbody tr th {\n",
       "        vertical-align: top;\n",
       "    }\n",
       "\n",
       "    .dataframe thead th {\n",
       "        text-align: right;\n",
       "    }\n",
       "</style>\n",
       "<table border=\"1\" class=\"dataframe\">\n",
       "  <thead>\n",
       "    <tr style=\"text-align: right;\">\n",
       "      <th></th>\n",
       "      <th>Date</th>\n",
       "      <th>Price</th>\n",
       "      <th>Open</th>\n",
       "      <th>High</th>\n",
       "      <th>Low</th>\n",
       "      <th>Vol.</th>\n",
       "      <th>Change %</th>\n",
       "    </tr>\n",
       "  </thead>\n",
       "  <tbody>\n",
       "    <tr>\n",
       "      <th>0</th>\n",
       "      <td>11/22/2024</td>\n",
       "      <td>2699.7</td>\n",
       "      <td>2671.2</td>\n",
       "      <td>2701.6</td>\n",
       "      <td>2670.85</td>\n",
       "      <td>NaN</td>\n",
       "      <td>0.93%</td>\n",
       "    </tr>\n",
       "    <tr>\n",
       "      <th>1</th>\n",
       "      <td>11/21/2024</td>\n",
       "      <td>2674.9</td>\n",
       "      <td>2653.5</td>\n",
       "      <td>2676.5</td>\n",
       "      <td>2651.60</td>\n",
       "      <td>186.30K</td>\n",
       "      <td>0.87%</td>\n",
       "    </tr>\n",
       "    <tr>\n",
       "      <th>2</th>\n",
       "      <td>11/20/2024</td>\n",
       "      <td>2651.7</td>\n",
       "      <td>2635.8</td>\n",
       "      <td>2659.0</td>\n",
       "      <td>2621.90</td>\n",
       "      <td>182.01K</td>\n",
       "      <td>0.79%</td>\n",
       "    </tr>\n",
       "    <tr>\n",
       "      <th>3</th>\n",
       "      <td>11/19/2024</td>\n",
       "      <td>2631.0</td>\n",
       "      <td>2616.3</td>\n",
       "      <td>2643.4</td>\n",
       "      <td>2614.20</td>\n",
       "      <td>202.24K</td>\n",
       "      <td>0.63%</td>\n",
       "    </tr>\n",
       "    <tr>\n",
       "      <th>4</th>\n",
       "      <td>11/18/2024</td>\n",
       "      <td>2614.6</td>\n",
       "      <td>2571.5</td>\n",
       "      <td>2619.5</td>\n",
       "      <td>2568.50</td>\n",
       "      <td>195.29K</td>\n",
       "      <td>1.73%</td>\n",
       "    </tr>\n",
       "  </tbody>\n",
       "</table>\n",
       "</div>"
      ],
      "text/plain": [
       "         Date   Price    Open    High      Low     Vol. Change %\n",
       "0  11/22/2024  2699.7  2671.2  2701.6  2670.85      NaN    0.93%\n",
       "1  11/21/2024  2674.9  2653.5  2676.5  2651.60  186.30K    0.87%\n",
       "2  11/20/2024  2651.7  2635.8  2659.0  2621.90  182.01K    0.79%\n",
       "3  11/19/2024  2631.0  2616.3  2643.4  2614.20  202.24K    0.63%\n",
       "4  11/18/2024  2614.6  2571.5  2619.5  2568.50  195.29K    1.73%"
      ]
     },
     "execution_count": 5,
     "metadata": {},
     "output_type": "execute_result"
    }
   ],
   "source": [
    "gold_data.head()"
   ]
  },
  {
   "cell_type": "code",
   "execution_count": 6,
   "id": "b768fc1a-568b-4260-94b3-ec8fa98116e3",
   "metadata": {},
   "outputs": [],
   "source": [
    "gold_data[\"Vol.\"] = gold_data[\"Vol.\"].replace(\"-\", np.nan)  # replace dashes with NaN\n",
    "\n",
    "gold_data[\"Vol.\"] = gold_data[\"Vol.\"].str.replace(\"K\", \"e3\", regex=False)\n",
    "gold_data[\"Vol.\"] = gold_data[\"Vol.\"].str.replace(\"M\", \"e6\", regex=False)\n",
    "\n",
    "gold_data[\"Vol.\"] = pd.to_numeric(gold_data[\"Vol.\"], errors=\"coerce\")\n"
   ]
  },
  {
   "cell_type": "code",
   "execution_count": 7,
   "id": "c1215500-0436-46c1-aeb3-2a7fc9a2aa93",
   "metadata": {},
   "outputs": [
    {
     "data": {
      "text/html": [
       "<div>\n",
       "<style scoped>\n",
       "    .dataframe tbody tr th:only-of-type {\n",
       "        vertical-align: middle;\n",
       "    }\n",
       "\n",
       "    .dataframe tbody tr th {\n",
       "        vertical-align: top;\n",
       "    }\n",
       "\n",
       "    .dataframe thead th {\n",
       "        text-align: right;\n",
       "    }\n",
       "</style>\n",
       "<table border=\"1\" class=\"dataframe\">\n",
       "  <thead>\n",
       "    <tr style=\"text-align: right;\">\n",
       "      <th></th>\n",
       "      <th>Date</th>\n",
       "      <th>Price</th>\n",
       "      <th>Open</th>\n",
       "      <th>High</th>\n",
       "      <th>Low</th>\n",
       "      <th>Vol.</th>\n",
       "      <th>Change %</th>\n",
       "    </tr>\n",
       "  </thead>\n",
       "  <tbody>\n",
       "    <tr>\n",
       "      <th>0</th>\n",
       "      <td>11/22/2024</td>\n",
       "      <td>2699.7</td>\n",
       "      <td>2671.2</td>\n",
       "      <td>2701.6</td>\n",
       "      <td>2670.85</td>\n",
       "      <td>NaN</td>\n",
       "      <td>0.93%</td>\n",
       "    </tr>\n",
       "    <tr>\n",
       "      <th>1</th>\n",
       "      <td>11/21/2024</td>\n",
       "      <td>2674.9</td>\n",
       "      <td>2653.5</td>\n",
       "      <td>2676.5</td>\n",
       "      <td>2651.60</td>\n",
       "      <td>186300.0</td>\n",
       "      <td>0.87%</td>\n",
       "    </tr>\n",
       "    <tr>\n",
       "      <th>2</th>\n",
       "      <td>11/20/2024</td>\n",
       "      <td>2651.7</td>\n",
       "      <td>2635.8</td>\n",
       "      <td>2659.0</td>\n",
       "      <td>2621.90</td>\n",
       "      <td>182010.0</td>\n",
       "      <td>0.79%</td>\n",
       "    </tr>\n",
       "    <tr>\n",
       "      <th>3</th>\n",
       "      <td>11/19/2024</td>\n",
       "      <td>2631.0</td>\n",
       "      <td>2616.3</td>\n",
       "      <td>2643.4</td>\n",
       "      <td>2614.20</td>\n",
       "      <td>202240.0</td>\n",
       "      <td>0.63%</td>\n",
       "    </tr>\n",
       "    <tr>\n",
       "      <th>4</th>\n",
       "      <td>11/18/2024</td>\n",
       "      <td>2614.6</td>\n",
       "      <td>2571.5</td>\n",
       "      <td>2619.5</td>\n",
       "      <td>2568.50</td>\n",
       "      <td>195290.0</td>\n",
       "      <td>1.73%</td>\n",
       "    </tr>\n",
       "  </tbody>\n",
       "</table>\n",
       "</div>"
      ],
      "text/plain": [
       "         Date   Price    Open    High      Low      Vol. Change %\n",
       "0  11/22/2024  2699.7  2671.2  2701.6  2670.85       NaN    0.93%\n",
       "1  11/21/2024  2674.9  2653.5  2676.5  2651.60  186300.0    0.87%\n",
       "2  11/20/2024  2651.7  2635.8  2659.0  2621.90  182010.0    0.79%\n",
       "3  11/19/2024  2631.0  2616.3  2643.4  2614.20  202240.0    0.63%\n",
       "4  11/18/2024  2614.6  2571.5  2619.5  2568.50  195290.0    1.73%"
      ]
     },
     "execution_count": 7,
     "metadata": {},
     "output_type": "execute_result"
    }
   ],
   "source": [
    "gold_data.head()"
   ]
  },
  {
   "cell_type": "code",
   "execution_count": 8,
   "id": "48005c94-0fe5-487a-92b3-3c783a3a7c57",
   "metadata": {},
   "outputs": [],
   "source": [
    "gold_data[\"Change %\"] = gold_data[\"Change %\"].str.replace(\"%\", \"\", regex=False)\n",
    "gold_data[\"Change %\"] = pd.to_numeric(gold_data[\"Change %\"], errors=\"coerce\")\n"
   ]
  },
  {
   "cell_type": "code",
   "execution_count": 9,
   "id": "ba7d266a-666e-4f7a-ab73-dc3ce1ceb4c8",
   "metadata": {},
   "outputs": [
    {
     "data": {
      "text/html": [
       "<div>\n",
       "<style scoped>\n",
       "    .dataframe tbody tr th:only-of-type {\n",
       "        vertical-align: middle;\n",
       "    }\n",
       "\n",
       "    .dataframe tbody tr th {\n",
       "        vertical-align: top;\n",
       "    }\n",
       "\n",
       "    .dataframe thead th {\n",
       "        text-align: right;\n",
       "    }\n",
       "</style>\n",
       "<table border=\"1\" class=\"dataframe\">\n",
       "  <thead>\n",
       "    <tr style=\"text-align: right;\">\n",
       "      <th></th>\n",
       "      <th>Date</th>\n",
       "      <th>Price</th>\n",
       "      <th>Open</th>\n",
       "      <th>High</th>\n",
       "      <th>Low</th>\n",
       "      <th>Vol.</th>\n",
       "      <th>Change %</th>\n",
       "    </tr>\n",
       "  </thead>\n",
       "  <tbody>\n",
       "    <tr>\n",
       "      <th>0</th>\n",
       "      <td>11/22/2024</td>\n",
       "      <td>2699.7</td>\n",
       "      <td>2671.2</td>\n",
       "      <td>2701.6</td>\n",
       "      <td>2670.85</td>\n",
       "      <td>NaN</td>\n",
       "      <td>0.93</td>\n",
       "    </tr>\n",
       "    <tr>\n",
       "      <th>1</th>\n",
       "      <td>11/21/2024</td>\n",
       "      <td>2674.9</td>\n",
       "      <td>2653.5</td>\n",
       "      <td>2676.5</td>\n",
       "      <td>2651.60</td>\n",
       "      <td>186300.0</td>\n",
       "      <td>0.87</td>\n",
       "    </tr>\n",
       "    <tr>\n",
       "      <th>2</th>\n",
       "      <td>11/20/2024</td>\n",
       "      <td>2651.7</td>\n",
       "      <td>2635.8</td>\n",
       "      <td>2659.0</td>\n",
       "      <td>2621.90</td>\n",
       "      <td>182010.0</td>\n",
       "      <td>0.79</td>\n",
       "    </tr>\n",
       "    <tr>\n",
       "      <th>3</th>\n",
       "      <td>11/19/2024</td>\n",
       "      <td>2631.0</td>\n",
       "      <td>2616.3</td>\n",
       "      <td>2643.4</td>\n",
       "      <td>2614.20</td>\n",
       "      <td>202240.0</td>\n",
       "      <td>0.63</td>\n",
       "    </tr>\n",
       "    <tr>\n",
       "      <th>4</th>\n",
       "      <td>11/18/2024</td>\n",
       "      <td>2614.6</td>\n",
       "      <td>2571.5</td>\n",
       "      <td>2619.5</td>\n",
       "      <td>2568.50</td>\n",
       "      <td>195290.0</td>\n",
       "      <td>1.73</td>\n",
       "    </tr>\n",
       "  </tbody>\n",
       "</table>\n",
       "</div>"
      ],
      "text/plain": [
       "         Date   Price    Open    High      Low      Vol.  Change %\n",
       "0  11/22/2024  2699.7  2671.2  2701.6  2670.85       NaN      0.93\n",
       "1  11/21/2024  2674.9  2653.5  2676.5  2651.60  186300.0      0.87\n",
       "2  11/20/2024  2651.7  2635.8  2659.0  2621.90  182010.0      0.79\n",
       "3  11/19/2024  2631.0  2616.3  2643.4  2614.20  202240.0      0.63\n",
       "4  11/18/2024  2614.6  2571.5  2619.5  2568.50  195290.0      1.73"
      ]
     },
     "execution_count": 9,
     "metadata": {},
     "output_type": "execute_result"
    }
   ],
   "source": [
    "gold_data.head()"
   ]
  },
  {
   "cell_type": "code",
   "execution_count": 10,
   "id": "ff57160d-46ae-4925-969e-09d758dff740",
   "metadata": {},
   "outputs": [
    {
     "data": {
      "text/html": [
       "<div>\n",
       "<style scoped>\n",
       "    .dataframe tbody tr th:only-of-type {\n",
       "        vertical-align: middle;\n",
       "    }\n",
       "\n",
       "    .dataframe tbody tr th {\n",
       "        vertical-align: top;\n",
       "    }\n",
       "\n",
       "    .dataframe thead th {\n",
       "        text-align: right;\n",
       "    }\n",
       "</style>\n",
       "<table border=\"1\" class=\"dataframe\">\n",
       "  <thead>\n",
       "    <tr style=\"text-align: right;\">\n",
       "      <th></th>\n",
       "      <th>Date</th>\n",
       "      <th>Price</th>\n",
       "      <th>Open</th>\n",
       "      <th>High</th>\n",
       "      <th>Low</th>\n",
       "      <th>Vol.</th>\n",
       "      <th>Change %</th>\n",
       "    </tr>\n",
       "  </thead>\n",
       "  <tbody>\n",
       "    <tr>\n",
       "      <th>0</th>\n",
       "      <td>11/22/2024</td>\n",
       "      <td>2699.7</td>\n",
       "      <td>2671.2</td>\n",
       "      <td>2701.6</td>\n",
       "      <td>2670.85</td>\n",
       "      <td>0.0</td>\n",
       "      <td>0.93</td>\n",
       "    </tr>\n",
       "    <tr>\n",
       "      <th>1</th>\n",
       "      <td>11/21/2024</td>\n",
       "      <td>2674.9</td>\n",
       "      <td>2653.5</td>\n",
       "      <td>2676.5</td>\n",
       "      <td>2651.60</td>\n",
       "      <td>186300.0</td>\n",
       "      <td>0.87</td>\n",
       "    </tr>\n",
       "    <tr>\n",
       "      <th>2</th>\n",
       "      <td>11/20/2024</td>\n",
       "      <td>2651.7</td>\n",
       "      <td>2635.8</td>\n",
       "      <td>2659.0</td>\n",
       "      <td>2621.90</td>\n",
       "      <td>182010.0</td>\n",
       "      <td>0.79</td>\n",
       "    </tr>\n",
       "    <tr>\n",
       "      <th>3</th>\n",
       "      <td>11/19/2024</td>\n",
       "      <td>2631.0</td>\n",
       "      <td>2616.3</td>\n",
       "      <td>2643.4</td>\n",
       "      <td>2614.20</td>\n",
       "      <td>202240.0</td>\n",
       "      <td>0.63</td>\n",
       "    </tr>\n",
       "    <tr>\n",
       "      <th>4</th>\n",
       "      <td>11/18/2024</td>\n",
       "      <td>2614.6</td>\n",
       "      <td>2571.5</td>\n",
       "      <td>2619.5</td>\n",
       "      <td>2568.50</td>\n",
       "      <td>195290.0</td>\n",
       "      <td>1.73</td>\n",
       "    </tr>\n",
       "  </tbody>\n",
       "</table>\n",
       "</div>"
      ],
      "text/plain": [
       "         Date   Price    Open    High      Low      Vol.  Change %\n",
       "0  11/22/2024  2699.7  2671.2  2701.6  2670.85       0.0      0.93\n",
       "1  11/21/2024  2674.9  2653.5  2676.5  2651.60  186300.0      0.87\n",
       "2  11/20/2024  2651.7  2635.8  2659.0  2621.90  182010.0      0.79\n",
       "3  11/19/2024  2631.0  2616.3  2643.4  2614.20  202240.0      0.63\n",
       "4  11/18/2024  2614.6  2571.5  2619.5  2568.50  195290.0      1.73"
      ]
     },
     "execution_count": 10,
     "metadata": {},
     "output_type": "execute_result"
    }
   ],
   "source": [
    "gold_data = gold_data.fillna(0)\n",
    "gold_data.head()"
   ]
  },
  {
   "cell_type": "code",
   "execution_count": 11,
   "id": "e04069ca-685b-4bab-b118-6e27c94bde4d",
   "metadata": {},
   "outputs": [
    {
     "data": {
      "text/plain": [
       "(217, 7)"
      ]
     },
     "execution_count": 11,
     "metadata": {},
     "output_type": "execute_result"
    }
   ],
   "source": [
    "gold_data.shape"
   ]
  },
  {
   "cell_type": "code",
   "execution_count": 12,
   "id": "62d9d283-69ed-4527-b785-1fb19141df99",
   "metadata": {},
   "outputs": [
    {
     "data": {
      "text/plain": [
       "Date        0\n",
       "Price       0\n",
       "Open        0\n",
       "High        0\n",
       "Low         0\n",
       "Vol.        0\n",
       "Change %    0\n",
       "dtype: int64"
      ]
     },
     "execution_count": 12,
     "metadata": {},
     "output_type": "execute_result"
    }
   ],
   "source": [
    "gold_data.isna().sum()"
   ]
  },
  {
   "cell_type": "code",
   "execution_count": 13,
   "id": "fed13949-91e3-49c9-b84a-81719deffad5",
   "metadata": {},
   "outputs": [
    {
     "data": {
      "text/plain": [
       "('01/23/2024', '11/22/2024')"
      ]
     },
     "execution_count": 13,
     "metadata": {},
     "output_type": "execute_result"
    }
   ],
   "source": [
    "gold_data[\"Date\"].min(),gold_data[\"Date\"].max()"
   ]
  },
  {
   "cell_type": "code",
   "execution_count": 14,
   "id": "0077b5b5-192c-4919-a322-a95a5c26d0ba",
   "metadata": {},
   "outputs": [
    {
     "data": {
      "text/plain": [
       "np.float64(2387.9502304147463)"
      ]
     },
     "execution_count": 14,
     "metadata": {},
     "output_type": "execute_result"
    }
   ],
   "source": [
    "gold_data[\"Price\"].mean()"
   ]
  },
  {
   "cell_type": "code",
   "execution_count": 15,
   "id": "642f3c41-2709-4914-8118-6df77e846b16",
   "metadata": {},
   "outputs": [
    {
     "data": {
      "text/plain": [
       "17"
      ]
     },
     "execution_count": 15,
     "metadata": {},
     "output_type": "execute_result"
    }
   ],
   "source": [
    "gold_data[\"Price\"].idxmax()"
   ]
  },
  {
   "cell_type": "code",
   "execution_count": 16,
   "id": "6b3b4651-d1e8-4386-ad32-62e7785b3193",
   "metadata": {},
   "outputs": [
    {
     "data": {
      "text/plain": [
       "Date        10/30/2024\n",
       "Price           2800.8\n",
       "Open            2786.9\n",
       "High            2801.8\n",
       "Low             2782.4\n",
       "Vol.          191550.0\n",
       "Change %          1.16\n",
       "Name: 17, dtype: object"
      ]
     },
     "execution_count": 16,
     "metadata": {},
     "output_type": "execute_result"
    }
   ],
   "source": [
    "gold_data.iloc[17]"
   ]
  },
  {
   "cell_type": "code",
   "execution_count": 17,
   "id": "f1cf9220-c1b9-489f-9fa9-76790ada7639",
   "metadata": {},
   "outputs": [
    {
     "data": {
      "text/plain": [
       "Date        02/14/2024\n",
       "Price           1994.7\n",
       "Open            1994.9\n",
       "High            1998.7\n",
       "Low             1987.2\n",
       "Vol.            1630.0\n",
       "Change %         -0.15\n",
       "Name: 200, dtype: object"
      ]
     },
     "execution_count": 17,
     "metadata": {},
     "output_type": "execute_result"
    }
   ],
   "source": [
    "gold_data[\"Price\"].idxmin()\n",
    "gold_data.iloc[200]\n"
   ]
  },
  {
   "cell_type": "code",
   "execution_count": 18,
   "id": "0d631872-0dfb-4a33-a585-0b7ff55f95e0",
   "metadata": {},
   "outputs": [
    {
     "data": {
      "text/plain": [
       "np.float64(0.13746543778801842)"
      ]
     },
     "execution_count": 18,
     "metadata": {},
     "output_type": "execute_result"
    }
   ],
   "source": [
    "gold_data[\"Change %\"].mean()"
   ]
  },
  {
   "cell_type": "code",
   "execution_count": 19,
   "id": "8dd22012-1a56-478a-b9ca-4ea88defca8d",
   "metadata": {},
   "outputs": [
    {
     "data": {
      "text/plain": [
       "Change %\n",
       " 0.13    4\n",
       " 0.35    4\n",
       " 0.76    3\n",
       " 1.16    3\n",
       " 0.05    3\n",
       "        ..\n",
       " 0.42    1\n",
       "-0.54    1\n",
       "-0.84    1\n",
       " 0.80    1\n",
       " 0.09    1\n",
       "Name: count, Length: 157, dtype: int64"
      ]
     },
     "execution_count": 19,
     "metadata": {},
     "output_type": "execute_result"
    }
   ],
   "source": [
    "gold_data[\"Change %\"].value_counts()"
   ]
  },
  {
   "cell_type": "code",
   "execution_count": 20,
   "id": "1affcd28-028d-4410-b43b-11c0e9c18995",
   "metadata": {},
   "outputs": [
    {
     "data": {
      "image/png": "[encoded data removed]",
      "text/plain": [
       "<Figure size 1500x800 with 1 Axes>"
      ]
     },
     "metadata": {},
     "output_type": "display_data"
    }
   ],
   "source": [
    "plt.figure(figsize=(15,8))\n",
    "plt.plot(gold_data[\"Date\"],gold_data[\"Price\"])\n",
    "plt.show()"
   ]
  },
  {
   "cell_type": "code",
   "execution_count": 21,
   "id": "ee5983e5-a341-4240-a12e-3aa7b3fee939",
   "metadata": {},
   "outputs": [
    {
     "data": {
      "image/png": "[encoded data removed]",
      "text/plain": [
       "<Figure size 640x480 with 1 Axes>"
      ]
     },
     "metadata": {},
     "output_type": "display_data"
    }
   ],
   "source": [
    "plt.hist(gold_data[\"Change %\"],bins=7)\n",
    "plt.show()"
   ]
  },
  {
   "cell_type": "code",
   "execution_count": 22,
   "id": "9580397d-8792-41d9-adaf-bbc01621f61f",
   "metadata": {},
   "outputs": [
    {
     "data": {
      "text/plain": [
       "<Axes: xlabel='Date'>"
      ]
     },
     "execution_count": 22,
     "metadata": {},
     "output_type": "execute_result"
    },
    {
     "data": {
      "image/png": "[encoded data removed]",
      "text/plain": [
       "<Figure size 1500x800 with 1 Axes>"
      ]
     },
     "metadata": {},
     "output_type": "display_data"
    }
   ],
   "source": [
    "plt.figure(figsize=(15,8))\n",
    "\n",
    "gold_data.groupby(gold_data[\"Date\"])[\"Price\"].mean().plot(kind=\"bar\")"
   ]
  },
  {
   "cell_type": "code",
   "execution_count": 26,
   "id": "48db83b9-76e1-4ade-8fb6-e827aec2d075",
   "metadata": {},
   "outputs": [
    {
     "data": {
      "text/plain": [
       "Date\n",
       "2024    2387.95023\n",
       "Name: Price, dtype: float64"
      ]
     },
     "execution_count": 26,
     "metadata": {},
     "output_type": "execute_result"
    }
   ],
   "source": [
    "import datetime as dt\n",
    "# convert Date column to datetime\n",
    "gold_data[\"Date\"] = pd.to_datetime(gold_data[\"Date\"], errors=\"coerce\")\n",
    "\n",
    "gold_data.groupby(gold_data[\"Date\"].dt.year)[\"Price\"].mean()"
   ]
  },
  {
   "cell_type": "code",
   "execution_count": 28,
   "id": "208f6a04-bc78-4273-b43a-3db1e8a75ac4",
   "metadata": {},
   "outputs": [
    {
     "data": {
      "text/plain": [
       "Date\n",
       "2024    2800.8\n",
       "Name: Price, dtype: float64"
      ]
     },
     "execution_count": 28,
     "metadata": {},
     "output_type": "execute_result"
    }
   ],
   "source": [
    "gold_data.groupby(gold_data[\"Date\"].dt.year)[\"Price\"].max()"
   ]
  },
  {
   "cell_type": "code",
   "execution_count": 30,
   "id": "3c45969c-2a85-43ba-98f2-7e65e9329f6e",
   "metadata": {},
   "outputs": [
    {
     "data": {
      "text/plain": [
       "Date\n",
       "1     2028.685714\n",
       "2     2030.433333\n",
       "3     2167.455000\n",
       "4     2338.422727\n",
       "5     2356.291304\n",
       "6     2333.150000\n",
       "7     2398.082609\n",
       "8     2473.900000\n",
       "9     2578.735000\n",
       "10    2695.191304\n",
       "11    2659.212500\n",
       "Name: Price, dtype: float64"
      ]
     },
     "execution_count": 30,
     "metadata": {},
     "output_type": "execute_result"
    }
   ],
   "source": [
    "gold_data.groupby(gold_data[\"Date\"].dt.month)[\"Price\"].mean()"
   ]
  },
  {
   "cell_type": "code",
   "execution_count": 31,
   "id": "4c3bc5cb-5655-4679-9082-16b487c1cd35",
   "metadata": {},
   "outputs": [
    {
     "data": {
      "text/plain": [
       "Date\n",
       "1     2057.4\n",
       "2     2061.2\n",
       "3     2227.1\n",
       "4     2401.4\n",
       "5     2438.5\n",
       "6     2378.9\n",
       "7     2467.8\n",
       "8     2536.7\n",
       "9     2670.4\n",
       "10    2800.8\n",
       "11    2749.7\n",
       "Name: Price, dtype: float64"
      ]
     },
     "execution_count": 31,
     "metadata": {},
     "output_type": "execute_result"
    }
   ],
   "source": [
    "gold_data.groupby(gold_data[\"Date\"].dt.month)[\"Price\"].max()"
   ]
  },
  {
   "cell_type": "code",
   "execution_count": 34,
   "id": "951b3f68-7c2e-4e52-8b62-4eda428cb1c6",
   "metadata": {},
   "outputs": [
    {
     "data": {
      "text/plain": [
       "Date\n",
       "2024    0.137465\n",
       "Name: Change %, dtype: float64"
      ]
     },
     "execution_count": 34,
     "metadata": {},
     "output_type": "execute_result"
    }
   ],
   "source": [
    "gold_data.groupby(gold_data[\"Date\"].dt.year)[\"Change %\"].mean()"
   ]
  },
  {
   "cell_type": "code",
   "execution_count": 36,
   "id": "a9a6c2a6-7534-41a4-bb0e-57d884848926",
   "metadata": {},
   "outputs": [
    {
     "data": {
      "text/plain": [
       "Date\n",
       "2024    91805.069124\n",
       "Name: Vol., dtype: float64"
      ]
     },
     "execution_count": 36,
     "metadata": {},
     "output_type": "execute_result"
    }
   ],
   "source": [
    "gold_data.groupby(gold_data[\"Date\"].dt.year)[\"Vol.\"].mean()"
   ]
  },
  {
   "cell_type": "code",
   "execution_count": 37,
   "id": "160c0949-a7c2-47ff-9c25-0c9d40c527b6",
   "metadata": {},
   "outputs": [
    {
     "data": {
      "text/plain": [
       "Date\n",
       "Friday       2397.960465\n",
       "Monday       2385.369048\n",
       "Thursday     2389.538636\n",
       "Tuesday      2382.920455\n",
       "Wednesday    2384.072727\n",
       "Name: Price, dtype: float64"
      ]
     },
     "execution_count": 37,
     "metadata": {},
     "output_type": "execute_result"
    }
   ],
   "source": [
    "gold_data.groupby(gold_data[\"Date\"].dt.day_name())[\"Price\"].mean()"
   ]
  },
  {
   "cell_type": "code",
   "execution_count": 43,
   "id": "43acc520-3486-4103-ae03-7c1127cafb8d",
   "metadata": {},
   "outputs": [
    {
     "data": {
      "text/html": [
       "<div>\n",
       "<style scoped>\n",
       "    .dataframe tbody tr th:only-of-type {\n",
       "        vertical-align: middle;\n",
       "    }\n",
       "\n",
       "    .dataframe tbody tr th {\n",
       "        vertical-align: top;\n",
       "    }\n",
       "\n",
       "    .dataframe thead th {\n",
       "        text-align: right;\n",
       "    }\n",
       "</style>\n",
       "<table border=\"1\" class=\"dataframe\">\n",
       "  <thead>\n",
       "    <tr style=\"text-align: right;\">\n",
       "      <th></th>\n",
       "      <th>Date</th>\n",
       "      <th>Price</th>\n",
       "      <th>Open</th>\n",
       "      <th>High</th>\n",
       "      <th>Low</th>\n",
       "      <th>Vol.</th>\n",
       "      <th>Change %</th>\n",
       "    </tr>\n",
       "  </thead>\n",
       "  <tbody>\n",
       "    <tr>\n",
       "      <th>count</th>\n",
       "      <td>217</td>\n",
       "      <td>217.000000</td>\n",
       "      <td>217.000000</td>\n",
       "      <td>217.000000</td>\n",
       "      <td>217.000000</td>\n",
       "      <td>217.000000</td>\n",
       "      <td>217.000000</td>\n",
       "    </tr>\n",
       "    <tr>\n",
       "      <th>mean</th>\n",
       "      <td>2024-06-23 06:24:53.087557632</td>\n",
       "      <td>2387.950230</td>\n",
       "      <td>2386.220968</td>\n",
       "      <td>2403.782028</td>\n",
       "      <td>2370.633180</td>\n",
       "      <td>91805.069124</td>\n",
       "      <td>0.137465</td>\n",
       "    </tr>\n",
       "    <tr>\n",
       "      <th>min</th>\n",
       "      <td>2024-01-23 00:00:00</td>\n",
       "      <td>1994.700000</td>\n",
       "      <td>1994.900000</td>\n",
       "      <td>1998.700000</td>\n",
       "      <td>1987.200000</td>\n",
       "      <td>0.000000</td>\n",
       "      <td>-2.860000</td>\n",
       "    </tr>\n",
       "    <tr>\n",
       "      <th>25%</th>\n",
       "      <td>2024-04-09 00:00:00</td>\n",
       "      <td>2305.900000</td>\n",
       "      <td>2306.300000</td>\n",
       "      <td>2325.200000</td>\n",
       "      <td>2291.700000</td>\n",
       "      <td>780.000000</td>\n",
       "      <td>-0.320000</td>\n",
       "    </tr>\n",
       "    <tr>\n",
       "      <th>50%</th>\n",
       "      <td>2024-06-24 00:00:00</td>\n",
       "      <td>2375.000000</td>\n",
       "      <td>2371.000000</td>\n",
       "      <td>2394.300000</td>\n",
       "      <td>2356.000000</td>\n",
       "      <td>3570.000000</td>\n",
       "      <td>0.190000</td>\n",
       "    </tr>\n",
       "    <tr>\n",
       "      <th>75%</th>\n",
       "      <td>2024-09-09 00:00:00</td>\n",
       "      <td>2519.700000</td>\n",
       "      <td>2522.000000</td>\n",
       "      <td>2536.100000</td>\n",
       "      <td>2505.700000</td>\n",
       "      <td>196670.000000</td>\n",
       "      <td>0.780000</td>\n",
       "    </tr>\n",
       "    <tr>\n",
       "      <th>max</th>\n",
       "      <td>2024-11-22 00:00:00</td>\n",
       "      <td>2800.800000</td>\n",
       "      <td>2799.100000</td>\n",
       "      <td>2801.800000</td>\n",
       "      <td>2782.400000</td>\n",
       "      <td>391750.000000</td>\n",
       "      <td>2.000000</td>\n",
       "    </tr>\n",
       "    <tr>\n",
       "      <th>std</th>\n",
       "      <td>NaN</td>\n",
       "      <td>207.300823</td>\n",
       "      <td>207.644963</td>\n",
       "      <td>208.947003</td>\n",
       "      <td>205.423414</td>\n",
       "      <td>115262.995074</td>\n",
       "      <td>0.929762</td>\n",
       "    </tr>\n",
       "  </tbody>\n",
       "</table>\n",
       "</div>"
      ],
      "text/plain": [
       "                                Date        Price         Open         High  \\\n",
       "count                            217   217.000000   217.000000   217.000000   \n",
       "mean   2024-06-23 06:24:53.087557632  2387.950230  2386.220968  2403.782028   \n",
       "min              2024-01-23 00:00:00  1994.700000  1994.900000  1998.700000   \n",
       "25%              2024-04-09 00:00:00  2305.900000  2306.300000  2325.200000   \n",
       "50%              2024-06-24 00:00:00  2375.000000  2371.000000  2394.300000   \n",
       "75%              2024-09-09 00:00:00  2519.700000  2522.000000  2536.100000   \n",
       "max              2024-11-22 00:00:00  2800.800000  2799.100000  2801.800000   \n",
       "std                              NaN   207.300823   207.644963   208.947003   \n",
       "\n",
       "               Low           Vol.    Change %  \n",
       "count   217.000000     217.000000  217.000000  \n",
       "mean   2370.633180   91805.069124    0.137465  \n",
       "min    1987.200000       0.000000   -2.860000  \n",
       "25%    2291.700000     780.000000   -0.320000  \n",
       "50%    2356.000000    3570.000000    0.190000  \n",
       "75%    2505.700000  196670.000000    0.780000  \n",
       "max    2782.400000  391750.000000    2.000000  \n",
       "std     205.423414  115262.995074    0.929762  "
      ]
     },
     "execution_count": 43,
     "metadata": {},
     "output_type": "execute_result"
    }
   ],
   "source": [
    "gold_data.describe(include=\"all\")\n"
   ]
  },
  {
   "cell_type": "code",
   "execution_count": 44,
   "id": "05eb7582-aaf9-48e4-ab40-5d8d773937a0",
   "metadata": {},
   "outputs": [
    {
     "name": "stdout",
     "output_type": "stream",
     "text": [
      "Mean Price: 2387.9502304147463\n",
      "Median Price: 2375.0\n",
      "Mode Price: 2336.6\n",
      "Price Standard Deviation: 207.30082277364903\n",
      "Price Variance: 42973.63112263185\n",
      "Price Range: 806.1000000000001\n"
     ]
    }
   ],
   "source": [
    "# Central tendency\n",
    "print(\"Mean Price:\", gold_data[\"Price\"].mean())\n",
    "print(\"Median Price:\", gold_data[\"Price\"].median())\n",
    "print(\"Mode Price:\", gold_data[\"Price\"].mode()[0])\n",
    "\n",
    "# Spread\n",
    "print(\"Price Standard Deviation:\", gold_data[\"Price\"].std())\n",
    "print(\"Price Variance:\", gold_data[\"Price\"].var())\n",
    "print(\"Price Range:\", gold_data[\"Price\"].max() - gold_data[\"Price\"].min())\n"
   ]
  },
  {
   "cell_type": "code",
   "execution_count": 45,
   "id": "78ed845e-4a57-4dcb-a163-93fc0354e33a",
   "metadata": {},
   "outputs": [
    {
     "name": "stdout",
     "output_type": "stream",
     "text": [
      "Skewness of Price: -0.12663722196810973\n",
      "Kurtosis of Price: -0.6858580584986265\n"
     ]
    }
   ],
   "source": [
    "print(\"Skewness of Price:\", gold_data[\"Price\"].skew())\n",
    "print(\"Kurtosis of Price:\", gold_data[\"Price\"].kurt())\n"
   ]
  },
  {
   "cell_type": "code",
   "execution_count": null,
   "id": "1fad7b31-8feb-44a3-8eff-7b1bff98324e",
   "metadata": {},
   "outputs": [],
   "source": []
  }
 ],
 "metadata": {
  "kernelspec": {
   "display_name": "Python 3 (ipykernel)",
   "language": "python",
   "name": "python3"
  },
  "language_info": {
   "codemirror_mode": {
    "name": "ipython",
    "version": 3
   },
   "file_extension": ".py",
   "mimetype": "text/x-python",
   "name": "python",
   "nbconvert_exporter": "python",
   "pygments_lexer": "ipython3",
   "version": "3.13.5"
  }
 },
 "nbformat": 4,
 "nbformat_minor": 5
}
